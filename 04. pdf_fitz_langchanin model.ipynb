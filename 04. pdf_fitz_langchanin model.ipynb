{
 "cells": [
  {
   "cell_type": "code",
   "id": "initial_id",
   "metadata": {
    "collapsed": true,
    "ExecuteTime": {
     "end_time": "2025-04-20T03:24:28.702448Z",
     "start_time": "2025-04-20T03:24:28.699183Z"
    }
   },
   "source": [
    "from langchain.chains import RetrievalQA\n",
    "from langchain.vectorstores import FAISS\n",
    "from funcs.logic import langchain_process_pdfs_to_faiss_with_positions\n",
    "from transformers import AutoTokenizer, AutoModelForSequenceClassification\n",
    "from typing import TypedDict, List, Optional\n",
    "from langgraph.graph import StateGraph\n",
    "from funcs.logic import get_qa_score\n",
    "from langchain_huggingface import HuggingFaceEmbeddings\n",
    "source_dir = \"data/source/pdf\"\n",
    "output_dir = \"data/vectordb/pdf_langchain\"\n",
    "embedding_model = \"intfloat/multilingual-e5-small\"\n",
    "# embedding_model = \"intfloat/multilingual-e5-large-instruct\"\n"
   ],
   "outputs": [],
   "execution_count": 4
  },
  {
   "metadata": {
    "ExecuteTime": {
     "end_time": "2025-04-20T03:23:42.698339Z",
     "start_time": "2025-04-20T03:23:34.132188Z"
    }
   },
   "cell_type": "code",
   "source": [
    "vectordb = langchain_process_pdfs_to_faiss_with_positions(source_dir, output_dir,\n",
    "                                         embedding_model_name=embedding_model,\n",
    "                                         chunk_size=500, chunk_overlap=50)\n",
    "\n"
   ],
   "id": "fb0a37957c526307",
   "outputs": [
    {
     "name": "stdout",
     "output_type": "stream",
     "text": [
      "📄 처리 중: 카카오계정약관20240416.pdf\n",
      "📄 처리 중: 카카오 서비스 약관20230109.pdf\n",
      "📄 처리 중: Daum서비스약관20211207.pdf\n",
      "✅ 총 118개 청크 생성\n",
      "✅ 저장 완료: data/vectordb/pdf_langchain\n"
     ]
    }
   ],
   "execution_count": 2
  },
  {
   "metadata": {
    "ExecuteTime": {
     "end_time": "2025-04-20T03:24:39.788502Z",
     "start_time": "2025-04-20T03:24:33.736352Z"
    }
   },
   "cell_type": "code",
   "source": [
    "# 1️⃣ FAISS 벡터 DB 로드\n",
    "qa_tokenizer = AutoTokenizer.from_pretrained(\"Dongjin-kr/ko-reranker\")\n",
    "qa_model = AutoModelForSequenceClassification.from_pretrained(\"Dongjin-kr/ko-reranker\")\n",
    "\n",
    "vector_db = FAISS.load_local(\n",
    "    output_dir,\n",
    "    HuggingFaceEmbeddings(model_name=embedding_model),\n",
    "    allow_dangerous_deserialization=True  # 보안 옵션 추가\n",
    ")"
   ],
   "id": "a1a3f5fea5ab0af9",
   "outputs": [],
   "execution_count": 5
  },
  {
   "metadata": {
    "ExecuteTime": {
     "end_time": "2025-04-20T03:24:47.632545Z",
     "start_time": "2025-04-20T03:24:47.627042Z"
    }
   },
   "cell_type": "code",
   "source": [
    "# LangGraph pipeline 실행\n",
    "class QAState(TypedDict):\n",
    "    question: str\n",
    "    retrieved_docs: Optional[List]\n",
    "    reranked_docs: Optional[List]\n",
    "    top_docs: Optional[List]\n",
    "    answer: Optional[str]\n",
    "\n",
    "\n",
    "def retrieve_documents(state: QAState):\n",
    "    question = state[\"question\"]\n",
    "    retrieved_docs = vector_db.similarity_search_with_score(question, k=30)\n",
    "    return {\"retrieved_docs\": retrieved_docs}\n",
    "\n",
    "\n",
    "def rerank_documents(state: QAState):\n",
    "    question = state[\"question\"]\n",
    "    retrieved_docs = state[\"retrieved_docs\"]\n",
    "\n",
    "    scored_docs = []\n",
    "    _score = []\n",
    "    for doc, _ in retrieved_docs:\n",
    "        score = get_qa_score(question, doc.page_content, qa_tokenizer, qa_model)\n",
    "        scored_docs.append((doc, score))\n",
    "        _score.append(score)\n",
    "\n",
    "    _average = sum(_score) / len(_score)\n",
    "\n",
    "    reranked_docs = sorted(scored_docs, key=lambda x: x[1], reverse=True)\n",
    "    # top_docs = [doc for doc, _ in reranked_docs[:10]]\n",
    "    top_docs = []\n",
    "    for doc, score in reranked_docs[:10]:\n",
    "        doc.metadata[\"score\"] = score\n",
    "        if score > _average:\n",
    "            top_docs.append(doc)\n",
    "\n",
    "    return {\n",
    "        \"reranked_docs\": reranked_docs,\n",
    "        \"top_docs\": top_docs,\n",
    "    }\n",
    "\n",
    "\n",
    "\n"
   ],
   "id": "1ebe538767e16ff6",
   "outputs": [],
   "execution_count": 6
  },
  {
   "metadata": {
    "ExecuteTime": {
     "end_time": "2025-04-20T03:24:51.395066Z",
     "start_time": "2025-04-20T03:24:51.389573Z"
    }
   },
   "cell_type": "code",
   "source": [
    "graph = StateGraph(QAState)\n",
    "\n",
    "graph.add_node(\"retrieve_documents\", retrieve_documents)\n",
    "graph.add_node(\"rerank_documents\", rerank_documents)\n",
    "\n",
    "graph.set_entry_point(\"retrieve_documents\")\n",
    "graph.add_edge(\"retrieve_documents\", \"rerank_documents\")\n",
    "\n",
    "\n",
    "graph.set_finish_point(\"retrieve_documents\")\n",
    "\n",
    "qa_graph = graph.compile()\n"
   ],
   "id": "cb14b616314723d9",
   "outputs": [],
   "execution_count": 7
  },
  {
   "metadata": {
    "ExecuteTime": {
     "end_time": "2025-04-20T03:25:12.002983Z",
     "start_time": "2025-04-20T03:25:04.655182Z"
    }
   },
   "cell_type": "code",
   "source": "result = qa_graph.invoke({\"question\": f\"이용제한과 관련하여 조치 결과가 불만족스러울 경우 고객센터를 통해 이의를 제기할 수 있습니까?\"})",
   "id": "7eed4c1cd87ac692",
   "outputs": [],
   "execution_count": 9
  },
  {
   "metadata": {
    "ExecuteTime": {
     "end_time": "2025-04-20T03:25:13.525172Z",
     "start_time": "2025-04-20T03:25:13.521706Z"
    }
   },
   "cell_type": "code",
   "source": "result['top_docs']",
   "id": "d2b105cd78fef936",
   "outputs": [
    {
     "data": {
      "text/plain": [
       "[Document(id='a394e59d-d256-4830-b62b-b6eb364c32be', metadata={'producer': 'macOS 버전 12.6(빌드 21G115) Quartz PDFContext', 'creator': '', 'creationdate': \"D:20240401062205Z00'00'\", 'source': 'data/source/pdf/카카오계정약관20240416.pdf', 'file_path': 'data/source/pdf/카카오계정약관20240416.pdf', 'total_pages': 17, 'format': 'PDF 1.3', 'title': '', 'author': '', 'subject': '', 'keywords': '', 'moddate': \"D:20240401062205Z00'00'\", 'trapped': '', 'modDate': \"D:20240401062205Z00'00'\", 'creationDate': \"D:20240401062205Z00'00'\", 'page': 13, 'score': 0.9999274015426636}, page_content='하여 중단하거나, 재가입에 제한을 둘 수도 있습니다. 또한 여러분이 서비스와 관련된 설비의 오작동이나 시스템의 파괴 및 혼란을 유발하는 등 서비스 제공에 악영향을 미치거나 안정적 운영을 심각하게 방해한 경우, 회사는 이러한 위험 활동이 확인된 여러분의 계정들에 대하여 이용제한을 할 수 있습니다. 다만, 여러분은 이용제한과 관련하여 조치 결과가 불만족스러울 경우 고객센터를 통해 이의를 제기할 수 있습니다. ④ 본 조에서 정한 사항 및 그 밖에 카카오계정 서비스의 이용에 관한 자세한 사항은 카카오 운영정책 등을 참고해 주시기 바랍니다.  제 13 조 (개인정보의 보호)  여러분의 개인정보의 안전한 처리는 회사에게 있어 가장 중요한 일 중 하나입니다. 여러분의 개인정보는 서비스의 원활한 제공을 위하여 여러분이 동의한 목적과 범위 내에서만 이용됩니다. 법령에 의하거나 여러분이 별도로 동의하지 아니하는 한 회사가 여러분의 개인정보를 제3자에게 제공하는 일은 결코 없으므로, 안심하셔도')]"
      ]
     },
     "execution_count": 10,
     "metadata": {},
     "output_type": "execute_result"
    }
   ],
   "execution_count": 10
  },
  {
   "metadata": {},
   "cell_type": "markdown",
   "source": "",
   "id": "4caf7ed8420a0530"
  },
  {
   "metadata": {
    "ExecuteTime": {
     "end_time": "2025-04-19T05:52:01.258702Z",
     "start_time": "2025-04-19T05:49:09.293567Z"
    }
   },
   "cell_type": "code",
   "source": [
    "import csv\n",
    "\n",
    "# CSV 파일을 읽어 딕셔너리 리스트로 저장\n",
    "data_list = []\n",
    "with open(\"data/checklist.csv\", newline='', encoding=\"utf-8-sig\") as csvfile:\n",
    "    reader = csv.DictReader(csvfile)  # 각 행을 딕셔너리로 변환\n",
    "    for row in reader:\n",
    "        op = {\n",
    "            'code':row['code'],\n",
    "            'item':row['item'],\n",
    "            'exp' : row['exp'],\n",
    "              }\n",
    "        result = qa_graph.invoke({\"question\": f\"{row['item']}\"})\n",
    "\n",
    "        op['result'] = result\n",
    "        data_list.append(op)"
   ],
   "id": "24dcdd07ff09b248",
   "outputs": [],
   "execution_count": 8
  },
  {
   "metadata": {
    "ExecuteTime": {
     "end_time": "2025-04-19T05:52:01.429440Z",
     "start_time": "2025-04-19T05:52:01.284969Z"
    }
   },
   "cell_type": "code",
   "source": [
    "import pandas as pd\n",
    "\n",
    "\n",
    "result_list = []\n",
    "for _documents in data_list:\n",
    "    for _docs in _documents['result']['top_docs']:\n",
    "        _dummy = {\n",
    "            \"code\":_documents['code'],\n",
    "            \"item\":_documents['item'],\n",
    "            \"page_content\": _docs.page_content,\n",
    "            \"score\": _docs.metadata['score'],\n",
    "        }\n",
    "        result_list.append(_dummy)\n",
    "\n",
    "\n",
    "df = pd.DataFrame(result_list)\n",
    "\n",
    "\n",
    "\n",
    "mean_scores = df.groupby('code')['score'].mean().reset_index()\n",
    "\n",
    "import seaborn as sns\n",
    "import matplotlib.pyplot as plt\n",
    "\n",
    "\n",
    "\n",
    "\n",
    "# 박스 플롯 그리기\n",
    "plt.figure(figsize=(12, 6))\n",
    "sns.boxplot(x='code', y='score', data=df)\n",
    "plt.xticks(rotation=90)\n",
    "plt.title('Score Distribution by Code')\n",
    "plt.show()"
   ],
   "id": "d0865223501f811d",
   "outputs": [
    {
     "name": "stderr",
     "output_type": "stream",
     "text": [
      "/Users/peter/Documents/.virtual/RAG_experiments/lib/python3.11/site-packages/IPython/core/pylabtools.py:170: UserWarning: Glyph 44060 (\\N{HANGUL SYLLABLE GAE}) missing from font(s) Arial.\n",
      "  fig.canvas.print_figure(bytes_io, **kw)\n",
      "/Users/peter/Documents/.virtual/RAG_experiments/lib/python3.11/site-packages/IPython/core/pylabtools.py:170: UserWarning: Glyph 51064 (\\N{HANGUL SYLLABLE IN}) missing from font(s) Arial.\n",
      "  fig.canvas.print_figure(bytes_io, **kw)\n",
      "/Users/peter/Documents/.virtual/RAG_experiments/lib/python3.11/site-packages/IPython/core/pylabtools.py:170: UserWarning: Glyph 51221 (\\N{HANGUL SYLLABLE JEONG}) missing from font(s) Arial.\n",
      "  fig.canvas.print_figure(bytes_io, **kw)\n",
      "/Users/peter/Documents/.virtual/RAG_experiments/lib/python3.11/site-packages/IPython/core/pylabtools.py:170: UserWarning: Glyph 48372 (\\N{HANGUL SYLLABLE BO}) missing from font(s) Arial.\n",
      "  fig.canvas.print_figure(bytes_io, **kw)\n",
      "/Users/peter/Documents/.virtual/RAG_experiments/lib/python3.11/site-packages/IPython/core/pylabtools.py:170: UserWarning: Glyph 49688 (\\N{HANGUL SYLLABLE SU}) missing from font(s) Arial.\n",
      "  fig.canvas.print_figure(bytes_io, **kw)\n",
      "/Users/peter/Documents/.virtual/RAG_experiments/lib/python3.11/site-packages/IPython/core/pylabtools.py:170: UserWarning: Glyph 51665 (\\N{HANGUL SYLLABLE JIB}) missing from font(s) Arial.\n",
      "  fig.canvas.print_figure(bytes_io, **kw)\n",
      "/Users/peter/Documents/.virtual/RAG_experiments/lib/python3.11/site-packages/IPython/core/pylabtools.py:170: UserWarning: Glyph 48124 (\\N{HANGUL SYLLABLE MIN}) missing from font(s) Arial.\n",
      "  fig.canvas.print_figure(bytes_io, **kw)\n",
      "/Users/peter/Documents/.virtual/RAG_experiments/lib/python3.11/site-packages/IPython/core/pylabtools.py:170: UserWarning: Glyph 44048 (\\N{HANGUL SYLLABLE GAM}) missing from font(s) Arial.\n",
      "  fig.canvas.print_figure(bytes_io, **kw)\n",
      "/Users/peter/Documents/.virtual/RAG_experiments/lib/python3.11/site-packages/IPython/core/pylabtools.py:170: UserWarning: Glyph 44256 (\\N{HANGUL SYLLABLE GO}) missing from font(s) Arial.\n",
      "  fig.canvas.print_figure(bytes_io, **kw)\n",
      "/Users/peter/Documents/.virtual/RAG_experiments/lib/python3.11/site-packages/IPython/core/pylabtools.py:170: UserWarning: Glyph 50976 (\\N{HANGUL SYLLABLE YU}) missing from font(s) Arial.\n",
      "  fig.canvas.print_figure(bytes_io, **kw)\n",
      "/Users/peter/Documents/.virtual/RAG_experiments/lib/python3.11/site-packages/IPython/core/pylabtools.py:170: UserWarning: Glyph 49885 (\\N{HANGUL SYLLABLE SIG}) missing from font(s) Arial.\n",
      "  fig.canvas.print_figure(bytes_io, **kw)\n",
      "/Users/peter/Documents/.virtual/RAG_experiments/lib/python3.11/site-packages/IPython/core/pylabtools.py:170: UserWarning: Glyph 48324 (\\N{HANGUL SYLLABLE BYEOL}) missing from font(s) Arial.\n",
      "  fig.canvas.print_figure(bytes_io, **kw)\n",
      "/Users/peter/Documents/.virtual/RAG_experiments/lib/python3.11/site-packages/IPython/core/pylabtools.py:170: UserWarning: Glyph 51452 (\\N{HANGUL SYLLABLE JU}) missing from font(s) Arial.\n",
      "  fig.canvas.print_figure(bytes_io, **kw)\n",
      "/Users/peter/Documents/.virtual/RAG_experiments/lib/python3.11/site-packages/IPython/core/pylabtools.py:170: UserWarning: Glyph 46321 (\\N{HANGUL SYLLABLE DEUNG}) missing from font(s) Arial.\n",
      "  fig.canvas.print_figure(bytes_io, **kw)\n",
      "/Users/peter/Documents/.virtual/RAG_experiments/lib/python3.11/site-packages/IPython/core/pylabtools.py:170: UserWarning: Glyph 47197 (\\N{HANGUL SYLLABLE ROG}) missing from font(s) Arial.\n",
      "  fig.canvas.print_figure(bytes_io, **kw)\n",
      "/Users/peter/Documents/.virtual/RAG_experiments/lib/python3.11/site-packages/IPython/core/pylabtools.py:170: UserWarning: Glyph 48264 (\\N{HANGUL SYLLABLE BEON}) missing from font(s) Arial.\n",
      "  fig.canvas.print_figure(bytes_io, **kw)\n",
      "/Users/peter/Documents/.virtual/RAG_experiments/lib/python3.11/site-packages/IPython/core/pylabtools.py:170: UserWarning: Glyph 54840 (\\N{HANGUL SYLLABLE HO}) missing from font(s) Arial.\n",
      "  fig.canvas.print_figure(bytes_io, **kw)\n",
      "/Users/peter/Documents/.virtual/RAG_experiments/lib/python3.11/site-packages/IPython/core/pylabtools.py:170: UserWarning: Glyph 52376 (\\N{HANGUL SYLLABLE CEO}) missing from font(s) Arial.\n",
      "  fig.canvas.print_figure(bytes_io, **kw)\n",
      "/Users/peter/Documents/.virtual/RAG_experiments/lib/python3.11/site-packages/IPython/core/pylabtools.py:170: UserWarning: Glyph 47532 (\\N{HANGUL SYLLABLE RI}) missing from font(s) Arial.\n",
      "  fig.canvas.print_figure(bytes_io, **kw)\n",
      "/Users/peter/Documents/.virtual/RAG_experiments/lib/python3.11/site-packages/IPython/core/pylabtools.py:170: UserWarning: Glyph 51228 (\\N{HANGUL SYLLABLE JE}) missing from font(s) Arial.\n",
      "  fig.canvas.print_figure(bytes_io, **kw)\n",
      "/Users/peter/Documents/.virtual/RAG_experiments/lib/python3.11/site-packages/IPython/core/pylabtools.py:170: UserWarning: Glyph 54620 (\\N{HANGUL SYLLABLE HAN}) missing from font(s) Arial.\n",
      "  fig.canvas.print_figure(bytes_io, **kw)\n",
      "/Users/peter/Documents/.virtual/RAG_experiments/lib/python3.11/site-packages/IPython/core/pylabtools.py:170: UserWarning: Glyph 47564 (\\N{HANGUL SYLLABLE MAN}) missing from font(s) Arial.\n",
      "  fig.canvas.print_figure(bytes_io, **kw)\n",
      "/Users/peter/Documents/.virtual/RAG_experiments/lib/python3.11/site-packages/IPython/core/pylabtools.py:170: UserWarning: Glyph 49464 (\\N{HANGUL SYLLABLE SE}) missing from font(s) Arial.\n",
      "  fig.canvas.print_figure(bytes_io, **kw)\n",
      "/Users/peter/Documents/.virtual/RAG_experiments/lib/python3.11/site-packages/IPython/core/pylabtools.py:170: UserWarning: Glyph 48120 (\\N{HANGUL SYLLABLE MI}) missing from font(s) Arial.\n",
      "  fig.canvas.print_figure(bytes_io, **kw)\n",
      "/Users/peter/Documents/.virtual/RAG_experiments/lib/python3.11/site-packages/IPython/core/pylabtools.py:170: UserWarning: Glyph 50500 (\\N{HANGUL SYLLABLE A}) missing from font(s) Arial.\n",
      "  fig.canvas.print_figure(bytes_io, **kw)\n",
      "/Users/peter/Documents/.virtual/RAG_experiments/lib/python3.11/site-packages/IPython/core/pylabtools.py:170: UserWarning: Glyph 46041 (\\N{HANGUL SYLLABLE DONG}) missing from font(s) Arial.\n",
      "  fig.canvas.print_figure(bytes_io, **kw)\n",
      "/Users/peter/Documents/.virtual/RAG_experiments/lib/python3.11/site-packages/IPython/core/pylabtools.py:170: UserWarning: Glyph 51032 (\\N{HANGUL SYLLABLE YI}) missing from font(s) Arial.\n",
      "  fig.canvas.print_figure(bytes_io, **kw)\n",
      "/Users/peter/Documents/.virtual/RAG_experiments/lib/python3.11/site-packages/IPython/core/pylabtools.py:170: UserWarning: Glyph 48169 (\\N{HANGUL SYLLABLE BANG}) missing from font(s) Arial.\n",
      "  fig.canvas.print_figure(bytes_io, **kw)\n",
      "/Users/peter/Documents/.virtual/RAG_experiments/lib/python3.11/site-packages/IPython/core/pylabtools.py:170: UserWarning: Glyph 52840 (\\N{HANGUL SYLLABLE CIM}) missing from font(s) Arial.\n",
      "  fig.canvas.print_figure(bytes_io, **kw)\n",
      "/Users/peter/Documents/.virtual/RAG_experiments/lib/python3.11/site-packages/IPython/core/pylabtools.py:170: UserWarning: Glyph 47785 (\\N{HANGUL SYLLABLE MOG}) missing from font(s) Arial.\n",
      "  fig.canvas.print_figure(bytes_io, **kw)\n",
      "/Users/peter/Documents/.virtual/RAG_experiments/lib/python3.11/site-packages/IPython/core/pylabtools.py:170: UserWarning: Glyph 51201 (\\N{HANGUL SYLLABLE JEOG}) missing from font(s) Arial.\n",
      "  fig.canvas.print_figure(bytes_io, **kw)\n",
      "/Users/peter/Documents/.virtual/RAG_experiments/lib/python3.11/site-packages/IPython/core/pylabtools.py:170: UserWarning: Glyph 50808 (\\N{HANGUL SYLLABLE OE}) missing from font(s) Arial.\n",
      "  fig.canvas.print_figure(bytes_io, **kw)\n",
      "/Users/peter/Documents/.virtual/RAG_experiments/lib/python3.11/site-packages/IPython/core/pylabtools.py:170: UserWarning: Glyph 44277 (\\N{HANGUL SYLLABLE GONG}) missing from font(s) Arial.\n",
      "  fig.canvas.print_figure(bytes_io, **kw)\n",
      "/Users/peter/Documents/.virtual/RAG_experiments/lib/python3.11/site-packages/IPython/core/pylabtools.py:170: UserWarning: Glyph 49884 (\\N{HANGUL SYLLABLE SI}) missing from font(s) Arial.\n",
      "  fig.canvas.print_figure(bytes_io, **kw)\n",
      "/Users/peter/Documents/.virtual/RAG_experiments/lib/python3.11/site-packages/IPython/core/pylabtools.py:170: UserWarning: Glyph 50504 (\\N{HANGUL SYLLABLE AN}) missing from font(s) Arial.\n",
      "  fig.canvas.print_figure(bytes_io, **kw)\n",
      "/Users/peter/Documents/.virtual/RAG_experiments/lib/python3.11/site-packages/IPython/core/pylabtools.py:170: UserWarning: Glyph 51204 (\\N{HANGUL SYLLABLE JEON}) missing from font(s) Arial.\n",
      "  fig.canvas.print_figure(bytes_io, **kw)\n",
      "/Users/peter/Documents/.virtual/RAG_experiments/lib/python3.11/site-packages/IPython/core/pylabtools.py:170: UserWarning: Glyph 51312 (\\N{HANGUL SYLLABLE JO}) missing from font(s) Arial.\n",
      "  fig.canvas.print_figure(bytes_io, **kw)\n",
      "/Users/peter/Documents/.virtual/RAG_experiments/lib/python3.11/site-packages/IPython/core/pylabtools.py:170: UserWarning: Glyph 52824 (\\N{HANGUL SYLLABLE CI}) missing from font(s) Arial.\n",
      "  fig.canvas.print_figure(bytes_io, **kw)\n",
      "/Users/peter/Documents/.virtual/RAG_experiments/lib/python3.11/site-packages/IPython/core/pylabtools.py:170: UserWarning: Glyph 51088 (\\N{HANGUL SYLLABLE JA}) missing from font(s) Arial.\n",
      "  fig.canvas.print_figure(bytes_io, **kw)\n",
      "/Users/peter/Documents/.virtual/RAG_experiments/lib/python3.11/site-packages/IPython/core/pylabtools.py:170: UserWarning: Glyph 44288 (\\N{HANGUL SYLLABLE GWAN}) missing from font(s) Arial.\n",
      "  fig.canvas.print_figure(bytes_io, **kw)\n",
      "/Users/peter/Documents/.virtual/RAG_experiments/lib/python3.11/site-packages/IPython/core/pylabtools.py:170: UserWarning: Glyph 45824 (\\N{HANGUL SYLLABLE DAE}) missing from font(s) Arial.\n",
      "  fig.canvas.print_figure(bytes_io, **kw)\n",
      "/Users/peter/Documents/.virtual/RAG_experiments/lib/python3.11/site-packages/IPython/core/pylabtools.py:170: UserWarning: Glyph 51109 (\\N{HANGUL SYLLABLE JANG}) missing from font(s) Arial.\n",
      "  fig.canvas.print_figure(bytes_io, **kw)\n",
      "/Users/peter/Documents/.virtual/RAG_experiments/lib/python3.11/site-packages/IPython/core/pylabtools.py:170: UserWarning: Glyph 44592 (\\N{HANGUL SYLLABLE GI}) missing from font(s) Arial.\n",
      "  fig.canvas.print_figure(bytes_io, **kw)\n",
      "/Users/peter/Documents/.virtual/RAG_experiments/lib/python3.11/site-packages/IPython/core/pylabtools.py:170: UserWarning: Glyph 47928 (\\N{HANGUL SYLLABLE MUN}) missing from font(s) Arial.\n",
      "  fig.canvas.print_figure(bytes_io, **kw)\n",
      "/Users/peter/Documents/.virtual/RAG_experiments/lib/python3.11/site-packages/IPython/core/pylabtools.py:170: UserWarning: Glyph 49436 (\\N{HANGUL SYLLABLE SEO}) missing from font(s) Arial.\n",
      "  fig.canvas.print_figure(bytes_io, **kw)\n",
      "/Users/peter/Documents/.virtual/RAG_experiments/lib/python3.11/site-packages/IPython/core/pylabtools.py:170: UserWarning: Glyph 50629 (\\N{HANGUL SYLLABLE EOB}) missing from font(s) Arial.\n",
      "  fig.canvas.print_figure(bytes_io, **kw)\n",
      "/Users/peter/Documents/.virtual/RAG_experiments/lib/python3.11/site-packages/IPython/core/pylabtools.py:170: UserWarning: Glyph 47924 (\\N{HANGUL SYLLABLE MU}) missing from font(s) Arial.\n",
      "  fig.canvas.print_figure(bytes_io, **kw)\n",
      "/Users/peter/Documents/.virtual/RAG_experiments/lib/python3.11/site-packages/IPython/core/pylabtools.py:170: UserWarning: Glyph 50857 (\\N{HANGUL SYLLABLE YONG}) missing from font(s) Arial.\n",
      "  fig.canvas.print_figure(bytes_io, **kw)\n",
      "/Users/peter/Documents/.virtual/RAG_experiments/lib/python3.11/site-packages/IPython/core/pylabtools.py:170: UserWarning: Glyph 45236 (\\N{HANGUL SYLLABLE NAE}) missing from font(s) Arial.\n",
      "  fig.canvas.print_figure(bytes_io, **kw)\n",
      "/Users/peter/Documents/.virtual/RAG_experiments/lib/python3.11/site-packages/IPython/core/pylabtools.py:170: UserWarning: Glyph 44036 (\\N{HANGUL SYLLABLE GAN}) missing from font(s) Arial.\n",
      "  fig.canvas.print_figure(bytes_io, **kw)\n",
      "/Users/peter/Documents/.virtual/RAG_experiments/lib/python3.11/site-packages/IPython/core/pylabtools.py:170: UserWarning: Glyph 44221 (\\N{HANGUL SYLLABLE GYEONG}) missing from font(s) Arial.\n",
      "  fig.canvas.print_figure(bytes_io, **kw)\n",
      "/Users/peter/Documents/.virtual/RAG_experiments/lib/python3.11/site-packages/IPython/core/pylabtools.py:170: UserWarning: Glyph 44284 (\\N{HANGUL SYLLABLE GWA}) missing from font(s) Arial.\n",
      "  fig.canvas.print_figure(bytes_io, **kw)\n",
      "/Users/peter/Documents/.virtual/RAG_experiments/lib/python3.11/site-packages/IPython/core/pylabtools.py:170: UserWarning: Glyph 54028 (\\N{HANGUL SYLLABLE PA}) missing from font(s) Arial.\n",
      "  fig.canvas.print_figure(bytes_io, **kw)\n",
      "/Users/peter/Documents/.virtual/RAG_experiments/lib/python3.11/site-packages/IPython/core/pylabtools.py:170: UserWarning: Glyph 50948 (\\N{HANGUL SYLLABLE WI}) missing from font(s) Arial.\n",
      "  fig.canvas.print_figure(bytes_io, **kw)\n",
      "/Users/peter/Documents/.virtual/RAG_experiments/lib/python3.11/site-packages/IPython/core/pylabtools.py:170: UserWarning: Glyph 53441 (\\N{HANGUL SYLLABLE TAG}) missing from font(s) Arial.\n",
      "  fig.canvas.print_figure(bytes_io, **kw)\n",
      "/Users/peter/Documents/.virtual/RAG_experiments/lib/python3.11/site-packages/IPython/core/pylabtools.py:170: UserWarning: Glyph 44228 (\\N{HANGUL SYLLABLE GYE}) missing from font(s) Arial.\n",
      "  fig.canvas.print_figure(bytes_io, **kw)\n",
      "/Users/peter/Documents/.virtual/RAG_experiments/lib/python3.11/site-packages/IPython/core/pylabtools.py:170: UserWarning: Glyph 50557 (\\N{HANGUL SYLLABLE YAG}) missing from font(s) Arial.\n",
      "  fig.canvas.print_figure(bytes_io, **kw)\n",
      "/Users/peter/Documents/.virtual/RAG_experiments/lib/python3.11/site-packages/IPython/core/pylabtools.py:170: UserWarning: Glyph 51089 (\\N{HANGUL SYLLABLE JAG}) missing from font(s) Arial.\n",
      "  fig.canvas.print_figure(bytes_io, **kw)\n",
      "/Users/peter/Documents/.virtual/RAG_experiments/lib/python3.11/site-packages/IPython/core/pylabtools.py:170: UserWarning: Glyph 49457 (\\N{HANGUL SYLLABLE SEONG}) missing from font(s) Arial.\n",
      "  fig.canvas.print_figure(bytes_io, **kw)\n",
      "/Users/peter/Documents/.virtual/RAG_experiments/lib/python3.11/site-packages/IPython/core/pylabtools.py:170: UserWarning: Glyph 49324 (\\N{HANGUL SYLLABLE SA}) missing from font(s) Arial.\n",
      "  fig.canvas.print_figure(bytes_io, **kw)\n",
      "/Users/peter/Documents/.virtual/RAG_experiments/lib/python3.11/site-packages/IPython/core/pylabtools.py:170: UserWarning: Glyph 44368 (\\N{HANGUL SYLLABLE GYO}) missing from font(s) Arial.\n",
      "  fig.canvas.print_figure(bytes_io, **kw)\n",
      "/Users/peter/Documents/.virtual/RAG_experiments/lib/python3.11/site-packages/IPython/core/pylabtools.py:170: UserWarning: Glyph 50977 (\\N{HANGUL SYLLABLE YUG}) missing from font(s) Arial.\n",
      "  fig.canvas.print_figure(bytes_io, **kw)\n",
      "/Users/peter/Documents/.virtual/RAG_experiments/lib/python3.11/site-packages/IPython/core/pylabtools.py:170: UserWarning: Glyph 46021 (\\N{HANGUL SYLLABLE DOG}) missing from font(s) Arial.\n",
      "  fig.canvas.print_figure(bytes_io, **kw)\n",
      "/Users/peter/Documents/.virtual/RAG_experiments/lib/python3.11/site-packages/IPython/core/pylabtools.py:170: UserWarning: Glyph 51060 (\\N{HANGUL SYLLABLE I}) missing from font(s) Arial.\n",
      "  fig.canvas.print_figure(bytes_io, **kw)\n",
      "/Users/peter/Documents/.virtual/RAG_experiments/lib/python3.11/site-packages/IPython/core/pylabtools.py:170: UserWarning: Glyph 54665 (\\N{HANGUL SYLLABLE HAENG}) missing from font(s) Arial.\n",
      "  fig.canvas.print_figure(bytes_io, **kw)\n",
      "/Users/peter/Documents/.virtual/RAG_experiments/lib/python3.11/site-packages/IPython/core/pylabtools.py:170: UserWarning: Glyph 50668 (\\N{HANGUL SYLLABLE YEO}) missing from font(s) Arial.\n",
      "  fig.canvas.print_figure(bytes_io, **kw)\n",
      "/Users/peter/Documents/.virtual/RAG_experiments/lib/python3.11/site-packages/IPython/core/pylabtools.py:170: UserWarning: Glyph 48512 (\\N{HANGUL SYLLABLE BU}) missing from font(s) Arial.\n",
      "  fig.canvas.print_figure(bytes_io, **kw)\n",
      "/Users/peter/Documents/.virtual/RAG_experiments/lib/python3.11/site-packages/IPython/core/pylabtools.py:170: UserWarning: Glyph 51217 (\\N{HANGUL SYLLABLE JEOB}) missing from font(s) Arial.\n",
      "  fig.canvas.print_figure(bytes_io, **kw)\n",
      "/Users/peter/Documents/.virtual/RAG_experiments/lib/python3.11/site-packages/IPython/core/pylabtools.py:170: UserWarning: Glyph 49549 (\\N{HANGUL SYLLABLE SOG}) missing from font(s) Arial.\n",
      "  fig.canvas.print_figure(bytes_io, **kw)\n",
      "/Users/peter/Documents/.virtual/RAG_experiments/lib/python3.11/site-packages/IPython/core/pylabtools.py:170: UserWarning: Glyph 51216 (\\N{HANGUL SYLLABLE JEOM}) missing from font(s) Arial.\n",
      "  fig.canvas.print_figure(bytes_io, **kw)\n",
      "/Users/peter/Documents/.virtual/RAG_experiments/lib/python3.11/site-packages/IPython/core/pylabtools.py:170: UserWarning: Glyph 44160 (\\N{HANGUL SYLLABLE GEOM}) missing from font(s) Arial.\n",
      "  fig.canvas.print_figure(bytes_io, **kw)\n",
      "/Users/peter/Documents/.virtual/RAG_experiments/lib/python3.11/site-packages/IPython/core/pylabtools.py:170: UserWarning: Glyph 44540 (\\N{HANGUL SYLLABLE GEUN}) missing from font(s) Arial.\n",
      "  fig.canvas.print_figure(bytes_io, **kw)\n",
      "/Users/peter/Documents/.virtual/RAG_experiments/lib/python3.11/site-packages/IPython/core/pylabtools.py:170: UserWarning: Glyph 44428 (\\N{HANGUL SYLLABLE GWEON}) missing from font(s) Arial.\n",
      "  fig.canvas.print_figure(bytes_io, **kw)\n",
      "/Users/peter/Documents/.virtual/RAG_experiments/lib/python3.11/site-packages/IPython/core/pylabtools.py:170: UserWarning: Glyph 45380 (\\N{HANGUL SYLLABLE NYEON}) missing from font(s) Arial.\n",
      "  fig.canvas.print_figure(bytes_io, **kw)\n",
      "/Users/peter/Documents/.virtual/RAG_experiments/lib/python3.11/site-packages/IPython/core/pylabtools.py:170: UserWarning: Glyph 54788 (\\N{HANGUL SYLLABLE HYEON}) missing from font(s) Arial.\n",
      "  fig.canvas.print_figure(bytes_io, **kw)\n",
      "/Users/peter/Documents/.virtual/RAG_experiments/lib/python3.11/site-packages/IPython/core/pylabtools.py:170: UserWarning: Glyph 54868 (\\N{HANGUL SYLLABLE HWA}) missing from font(s) Arial.\n",
      "  fig.canvas.print_figure(bytes_io, **kw)\n",
      "/Users/peter/Documents/.virtual/RAG_experiments/lib/python3.11/site-packages/IPython/core/pylabtools.py:170: UserWarning: Glyph 52572 (\\N{HANGUL SYLLABLE COE}) missing from font(s) Arial.\n",
      "  fig.canvas.print_figure(bytes_io, **kw)\n",
      "/Users/peter/Documents/.virtual/RAG_experiments/lib/python3.11/site-packages/IPython/core/pylabtools.py:170: UserWarning: Glyph 49548 (\\N{HANGUL SYLLABLE SO}) missing from font(s) Arial.\n",
      "  fig.canvas.print_figure(bytes_io, **kw)\n"
     ]
    },
    {
     "data": {
      "text/plain": [
       "<Figure size 1200x600 with 1 Axes>"
      ],
      "image/png": "[encoded data removed]"
     },
     "metadata": {},
     "output_type": "display_data"
    }
   ],
   "execution_count": 9
  },
  {
   "metadata": {
    "ExecuteTime": {
     "end_time": "2025-04-19T04:16:33.246544Z",
     "start_time": "2025-04-19T04:16:33.243571Z"
    }
   },
   "cell_type": "code",
   "source": "result['top_docs']",
   "id": "f5414d39012c6d3b",
   "outputs": [
    {
     "data": {
      "text/plain": [
       "[Document(id='f3c69cec-ea36-4168-b9bc-cc8acd954783', metadata={'producer': 'macOS 버전 12.6(빌드 21G115) Quartz PDFContext', 'creator': '', 'creationdate': \"D:20240401062205Z00'00'\", 'source': 'data/source/pdf/카카오계정약관20240416.pdf', 'file_path': 'data/source/pdf/카카오계정약관20240416.pdf', 'total_pages': 17, 'format': 'PDF 1.3', 'title': '', 'author': '', 'subject': '', 'keywords': '', 'moddate': \"D:20240401062205Z00'00'\", 'trapped': '', 'modDate': \"D:20240401062205Z00'00'\", 'creationDate': \"D:20240401062205Z00'00'\", 'page': 13, 'score': 0.999916672706604}, page_content='하여 중단하거나, 재가입에 제한을 둘 수도 있습니다. 또한 여러분이 서비스와 관련된 설\\n비의 오작동이나 시스템의 파괴 및 혼란을 유발하는 등 서비스 제공에 악영향을 미치거\\n나 안정적 운영을 심각하게 방해한 경우, 회사는 이러한 위험 활동이 확인된 여러분의 \\n계정들에 대하여 이용제한을 할 수 있습니다. 다만, 여러분은 이용제한과 관련하여 조치 \\n결과가 불만족스러울 경우 고객센터를 통해 이의를 제기할 수 있습니다. \\n④ 본 조에서 정한 사항 및 그 밖에 카카오계정 서비스의 이용에 관한 자세한 사항은 카카\\n오 운영정책 등을 참고해 주시기 바랍니다. \\n \\n제 13 조 (개인정보의 보호) \\n \\n여러분의 개인정보의 안전한 처리는 회사에게 있어 가장 중요한 일 중 하나입니다. 여러분\\n의 개인정보는 서비스의 원활한 제공을 위하여 여러분이 동의한 목적과 범위 내에서만 이용\\n됩니다. 법령에 의하거나 여러분이 별도로 동의하지 아니하는 한 회사가 여러분의 개인정보'),\n",
       " Document(id='f5500ec9-86bb-4609-a970-31e6526abdd7', metadata={'producer': 'macOS 버전 12.6(빌드 21G115) Quartz PDFContext', 'creator': '', 'creationdate': \"D:20221219015202Z00'00'\", 'source': 'data/source/pdf/카카오 서비스 약관20230109.pdf', 'file_path': 'data/source/pdf/카카오 서비스 약관20230109.pdf', 'total_pages': 18, 'format': 'PDF 1.3', 'title': '', 'author': '', 'subject': '', 'keywords': '', 'moddate': \"D:20221219015202Z00'00'\", 'trapped': '', 'modDate': \"D:20221219015202Z00'00'\", 'creationDate': \"D:20221219015202Z00'00'\", 'page': 4, 'score': 0.9996800422668457}, page_content='.#\\n#3\\n#3\\n파기합니다단저# 사양# 단말기의# 경우에는# 신고된# 음성정보가# 저장되지# 않을# 수# 있습니다\\n.#\\n,#\\n.\\n혹시라도# 여러분이# 관련# 법령\\n카카오의# 모든# 약관# 또는# 정책을# 준수하지# 않는다면\\n카카오는# 여러분의#\\n,#\\n,#\\n위반행위를# 조사할# 수# 있고\\n해당# 게시물# 등을# 삭제# 또는# 임시# 삭제하거나# 여러분의# 카카오# 서비스#\\n,#\\n이용을# 잠시# 또는# 계속하여# 중단할# 수도# 있습니다\\n또한# 여러분이# 서비스와# 관련된# 설비의# 오작동이나#\\n.#\\n시스템의# 파괴# 및# 혼란을# 유발하는# 등# 서비스# 제공에# 악영향을# 미치거나# 안정적# 운영을# 심각하게# 방해한#\\n경우\\n회사는# 이러한# 위험# 활동이# 확인된# 여러분의# 계정들에# 대하여# 이용제한을# 할# 수# 있습니다\\n다만\\n,#\\n.#\\n,#\\n여러분은# 이용제한과# 관련하여# 조치# 결과가# 불만족스러울# 경우# 고객센터를# 통해# 이의를# 제기할# 수#\\n있습니다')]"
      ]
     },
     "execution_count": 11,
     "metadata": {},
     "output_type": "execute_result"
    }
   ],
   "execution_count": 11
  },
  {
   "metadata": {},
   "cell_type": "code",
   "source": "",
   "id": "1d0fef7dc9ec0a26",
   "outputs": [],
   "execution_count": null
  }
 ],
 "metadata": {
  "kernelspec": {
   "display_name": "Python 3",
   "language": "python",
   "name": "python3"
  },
  "language_info": {
   "codemirror_mode": {
    "name": "ipython",
    "version": 2
   },
   "file_extension": ".py",
   "mimetype": "text/x-python",
   "name": "python",
   "nbconvert_exporter": "python",
   "pygments_lexer": "ipython2",
   "version": "2.7.6"
  }
 },
 "nbformat": 4,
 "nbformat_minor": 5
}
