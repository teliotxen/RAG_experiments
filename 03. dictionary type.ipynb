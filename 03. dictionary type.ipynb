{
 "cells": [
  {
   "metadata": {
    "ExecuteTime": {
     "end_time": "2025-04-19T11:58:16.193126Z",
     "start_time": "2025-04-19T11:58:16.189884Z"
    }
   },
   "cell_type": "code",
   "source": [
    "from langchain.vectorstores import FAISS\n",
    "from langchain.embeddings import HuggingFaceEmbeddings\n",
    "from langchain.schema import Document\n",
    "from transformers import AutoTokenizer, AutoModelForSequenceClassification\n",
    "from funcs.logic import get_qa_score\n",
    "from typing import TypedDict, List, Optional\n",
    "from langgraph.graph import StateGraph\n",
    "\n",
    "source_dir = \"data/source/pdf\"\n",
    "output_dir = \"data/vectordb/dict\"\n",
    "embedding_model = \"intfloat/multilingual-e5-small\"\n",
    "\n",
    "\n",
    "\n",
    "# ------------------------\n",
    "# 나중에 불러올 때\n",
    "# ------------------------\n",
    "\n",
    "# 6. 동일한 임베딩 모델로 FAISS 로드\n"
   ],
   "id": "c8d996c9ead7d1b4",
   "outputs": [],
   "execution_count": 23
  },
  {
   "metadata": {
    "ExecuteTime": {
     "end_time": "2025-04-19T11:59:53.718451Z",
     "start_time": "2025-04-19T11:59:49.165854Z"
    }
   },
   "cell_type": "code",
   "source": [
    "# 1. 딕셔너리 데이터 정의 (content + metadata)\n",
    "data = {\n",
    "    \"doc1\": {\n",
    "        \"content\": \"이것은 첫 번째 문서입니다.\",\n",
    "        \"metadata\": {\"category\": \"공지\", \"author\": \"홍길동\"}\n",
    "    },\n",
    "    \"doc2\": {\n",
    "        \"content\": \"두 번째 문서는 여기에 있습니다.\",\n",
    "        \"metadata\": {\"category\": \"보고서\", \"author\": \"이순신\"}\n",
    "    },\n",
    "    \"doc3\": {\n",
    "        \"content\": \"세 번째 문서는 여기에 있습니다.\",\n",
    "        \"metadata\": {\"category\": \"보고서\", \"author\": \"이순신\"}\n",
    "    },\n",
    "    \"doc4\": {\n",
    "        \"content\": \"넷 번째 문서는 여기에 있습니다.\",\n",
    "        \"metadata\": {\"category\": \"보고서\", \"author\": \"이순신\"}\n",
    "    },\n",
    "    \"doc5\": {\n",
    "        \"content\": \"다섯 번째 문서는 여기에 있습니다.\",\n",
    "        \"metadata\": {\"category\": \"보고서\", \"author\": \"이순신\"}\n",
    "    }\n",
    "}\n",
    "\n",
    "# 2. Document 객체로 변환\n",
    "documents = [\n",
    "    Document(\n",
    "        page_content=item[\"content\"],\n",
    "        metadata={\"source\": key, **item[\"metadata\"]}\n",
    "    )\n",
    "    for key, item in data.items()\n",
    "]\n",
    "\n",
    "# 3. HuggingFace 임베딩 모델 설정\n",
    "embedding = HuggingFaceEmbeddings(\n",
    "    model_name=embedding_model  # 작고 빠른 모델\n",
    ")\n",
    "\n",
    "# 4. FAISS 인덱스 생성\n",
    "faiss_index = FAISS.from_documents(documents, embedding)\n",
    "\n",
    "# 5. 저장\n",
    "faiss_index.save_local(output_dir)"
   ],
   "id": "91dc1c60cb20c309",
   "outputs": [],
   "execution_count": 30
  },
  {
   "metadata": {
    "ExecuteTime": {
     "end_time": "2025-04-19T11:59:54.603301Z",
     "start_time": "2025-04-19T11:59:53.736572Z"
    }
   },
   "cell_type": "code",
   "source": [
    "# 1️⃣ FAISS 벡터 DB 로드\n",
    "qa_tokenizer = AutoTokenizer.from_pretrained(\"Dongjin-kr/ko-reranker\")\n",
    "qa_model = AutoModelForSequenceClassification.from_pretrained(\"Dongjin-kr/ko-reranker\")"
   ],
   "id": "7619ce3da2d1a2c8",
   "outputs": [],
   "execution_count": 31
  },
  {
   "metadata": {
    "ExecuteTime": {
     "end_time": "2025-04-19T11:59:54.633780Z",
     "start_time": "2025-04-19T11:59:54.620906Z"
    }
   },
   "cell_type": "code",
   "source": [
    "vector_db = FAISS.load_local(\n",
    "    output_dir, embedding,\n",
    "    allow_dangerous_deserialization=True\n",
    ")\n",
    "\n"
   ],
   "id": "377f57b237538961",
   "outputs": [],
   "execution_count": 32
  },
  {
   "metadata": {
    "ExecuteTime": {
     "end_time": "2025-04-19T12:01:16.564278Z",
     "start_time": "2025-04-19T12:01:16.556707Z"
    }
   },
   "cell_type": "code",
   "source": [
    "# LangGraph pipeline 실행\n",
    "class QAState(TypedDict):\n",
    "    question: str\n",
    "    retrieved_docs: Optional[List]\n",
    "    reranked_docs: Optional[List]\n",
    "    top_docs: Optional[List]\n",
    "    answer: Optional[str]\n",
    "\n",
    "\n",
    "def retrieve_documents(state: QAState):\n",
    "    question = state[\"question\"]\n",
    "    retrieved_docs = vector_db.similarity_search_with_score(question, k=30)\n",
    "    return {\"retrieved_docs\": retrieved_docs}\n",
    "\n",
    "\n",
    "def rerank_documents(state: QAState):\n",
    "    question = state[\"question\"]\n",
    "    retrieved_docs = state[\"retrieved_docs\"]\n",
    "\n",
    "    scored_docs = []\n",
    "    _score = []\n",
    "    for doc, _ in retrieved_docs:\n",
    "        score = get_qa_score(question, doc.page_content, qa_tokenizer, qa_model)\n",
    "        scored_docs.append((doc, score))\n",
    "        _score.append(score)\n",
    "\n",
    "    _average = sum(_score) / len(_score)\n",
    "\n",
    "    reranked_docs = sorted(scored_docs, key=lambda x: x[1], reverse=True)\n",
    "    # top_docs = [doc for doc, _ in reranked_docs[:10]]\n",
    "    top_docs = []\n",
    "    for doc, score in reranked_docs[:5]:\n",
    "        doc.metadata[\"score\"] = score\n",
    "        if score > _average:\n",
    "            top_docs.append(doc)\n",
    "\n",
    "    return {\n",
    "        \"reranked_docs\": reranked_docs,\n",
    "        \"top_docs\": top_docs,\n",
    "    }\n",
    "\n",
    "\n",
    "graph = StateGraph(QAState)\n",
    "\n",
    "graph.add_node(\"retrieve_documents\", retrieve_documents)\n",
    "graph.add_node(\"rerank_documents\", rerank_documents)\n",
    "\n",
    "graph.set_entry_point(\"retrieve_documents\")\n",
    "graph.add_edge(\"retrieve_documents\", \"rerank_documents\")\n",
    "\n",
    "\n",
    "graph.set_finish_point(\"retrieve_documents\")\n",
    "\n",
    "qa_graph = graph.compile()\n",
    "\n",
    "\n"
   ],
   "id": "94feb852d27276c9",
   "outputs": [],
   "execution_count": 37
  },
  {
   "metadata": {
    "ExecuteTime": {
     "end_time": "2025-04-19T12:01:17.538690Z",
     "start_time": "2025-04-19T12:01:17.286830Z"
    }
   },
   "cell_type": "code",
   "source": "result = qa_graph.invoke({\"question\": f\"두번째 문서는?\"})\n",
   "id": "3c942a060df65617",
   "outputs": [],
   "execution_count": 38
  },
  {
   "metadata": {
    "ExecuteTime": {
     "end_time": "2025-04-19T12:02:51.193361Z",
     "start_time": "2025-04-19T12:02:51.191464Z"
    }
   },
   "cell_type": "code",
   "source": "result['top_docs']",
   "id": "1fd22e596d9a2465",
   "outputs": [
    {
     "data": {
      "text/plain": [
       "[Document(id='767a97e9-ad3c-4430-8c72-13e0ae077fa6', metadata={'source': 'doc2', 'category': '보고서', 'author': '이순신', 'score': 0.9995869994163513}, page_content='두 번째 문서는 여기에 있습니다.')]"
      ]
     },
     "execution_count": 40,
     "metadata": {},
     "output_type": "execute_result"
    }
   ],
   "execution_count": 40
  },
  {
   "metadata": {},
   "cell_type": "code",
   "outputs": [],
   "execution_count": null,
   "source": "",
   "id": "b629f8117704f716"
  }
 ],
 "metadata": {
  "kernelspec": {
   "display_name": "Python 3",
   "language": "python",
   "name": "python3"
  },
  "language_info": {
   "codemirror_mode": {
    "name": "ipython",
    "version": 2
   },
   "file_extension": ".py",
   "mimetype": "text/x-python",
   "name": "python",
   "nbconvert_exporter": "python",
   "pygments_lexer": "ipython2",
   "version": "2.7.6"
  }
 },
 "nbformat": 4,
 "nbformat_minor": 5
}
