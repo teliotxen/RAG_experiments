{
 "cells": [
  {
   "cell_type": "code",
   "id": "initial_id",
   "metadata": {
    "collapsed": true
   },
   "source": [
    "from langchain.chains import RetrievalQA\n",
    "from langchain.vectorstores import FAISS\n",
    "from langchain.embeddings import HuggingFaceEmbeddings\n",
    "from funcs.logic import process_pdfs_to_faiss_with_positions\n",
    "from transformers import AutoTokenizer, AutoModelForSequenceClassification\n",
    "from typing import TypedDict, List, Optional\n",
    "from langgraph.graph import StateGraph\n",
    "from funcs.logic import get_qa_score\n",
    "\n",
    "source_dir = \"path/to/sources\"\n",
    "output_dir = \"data/case1\"\n",
    "embedding_model = \"intfloat/multilingual-e5-small\"\n",
    "# embedding_model = \"intfloat/multilingual-e5-large-instruct\"\n"
   ],
   "outputs": [],
   "execution_count": null
  },
  {
   "metadata": {},
   "cell_type": "code",
   "source": [
    "# 벡터 데이터 베이스에 임베딩\n",
    "process_pdfs_to_faiss_with_positions(\n",
    "    pdf_dir= source_dir,\n",
    "    output_dir=output_dir,\n",
    "    embedding_model_name=embedding_model,\n",
    "    chunk_size=500,\n",
    "    chunk_overlap=50\n",
    ")"
   ],
   "id": "fb0a37957c526307",
   "outputs": [],
   "execution_count": null
  },
  {
   "metadata": {},
   "cell_type": "code",
   "source": [
    "# 1️⃣ FAISS 벡터 DB 로드\n",
    "qa_tokenizer = AutoTokenizer.from_pretrained(\"Dongjin-kr/ko-reranker\")\n",
    "qa_model = AutoModelForSequenceClassification.from_pretrained(\"Dongjin-kr/ko-reranker\")\n",
    "\n",
    "vector_db = FAISS.load_local(\n",
    "    output_dir,\n",
    "    HuggingFaceEmbeddings(model_name=embedding_model),\n",
    "    allow_dangerous_deserialization=True  # 보안 옵션 추가\n",
    ")"
   ],
   "id": "a1a3f5fea5ab0af9",
   "outputs": [],
   "execution_count": null
  },
  {
   "metadata": {},
   "cell_type": "code",
   "source": [
    "# LangGraph pipeline 실행\n",
    "class QAState(TypedDict):\n",
    "    question: str\n",
    "    retrieved_docs: Optional[List]\n",
    "    reranked_docs: Optional[List]\n",
    "    top_docs: Optional[List]\n",
    "    answer: Optional[str]\n",
    "\n",
    "\n",
    "def retrieve_documents(state: QAState):\n",
    "    question = state[\"question\"]\n",
    "    retrieved_docs = vector_db.similarity_search_with_score(question, k=30)\n",
    "    return {\"retrieved_docs\": retrieved_docs}\n",
    "\n",
    "\n",
    "def rerank_documents(state: QAState):\n",
    "    question = state[\"question\"]\n",
    "    retrieved_docs = state[\"retrieved_docs\"]\n",
    "\n",
    "    scored_docs = []\n",
    "    _score = []\n",
    "    for doc, _ in retrieved_docs:\n",
    "        score = get_qa_score(question, doc.page_content, qa_tokenizer, qa_model)\n",
    "        scored_docs.append((doc, score))\n",
    "        _score.append(score)\n",
    "\n",
    "    _average = sum(_score) / len(_score)\n",
    "\n",
    "    reranked_docs = sorted(scored_docs, key=lambda x: x[1], reverse=True)\n",
    "    # top_docs = [doc for doc, _ in reranked_docs[:10]]\n",
    "    top_docs = []\n",
    "    for doc, score in reranked_docs[:10]:\n",
    "        doc.metadata[\"score\"] = score\n",
    "        if score > _average:\n",
    "            top_docs.append(doc)\n",
    "\n",
    "    return {\n",
    "        \"reranked_docs\": reranked_docs,\n",
    "        \"top_docs\": top_docs,\n",
    "    }\n",
    "\n",
    "\n",
    "\n"
   ],
   "id": "1ebe538767e16ff6",
   "outputs": [],
   "execution_count": null
  },
  {
   "metadata": {},
   "cell_type": "code",
   "source": [
    "graph = StateGraph(QAState)\n",
    "\n",
    "graph.add_node(\"retrieve_documents\", retrieve_documents)\n",
    "graph.add_node(\"rerank_documents\", rerank_documents)\n",
    "\n",
    "graph.set_entry_point(\"retrieve_documents\")\n",
    "graph.add_edge(\"retrieve_documents\", \"rerank_documents\")\n",
    "\n",
    "\n",
    "graph.set_finish_point(\"retrieve_documents\")\n",
    "\n",
    "qa_graph = graph.compile()\n"
   ],
   "id": "cb14b616314723d9",
   "outputs": [],
   "execution_count": null
  },
  {
   "metadata": {},
   "cell_type": "code",
   "source": [
    "import csv\n",
    "\n",
    "# CSV 파일을 읽어 딕셔너리 리스트로 저장\n",
    "data_list = []\n",
    "with open(\"path/to/sources\", newline='', encoding=\"utf-8-sig\") as csvfile:\n",
    "    reader = csv.DictReader(csvfile)  # 각 행을 딕셔너리로 변환\n",
    "    for row in reader:\n",
    "        op = {\n",
    "            'code':row['code'],\n",
    "            'item':row['item'],\n",
    "            'exp' : row['exp'],\n",
    "              }\n",
    "        result = qa_graph.invoke({\"question\": f\"{row['item']}\"})\n",
    "\n",
    "        op['result'] = result\n",
    "        data_list.append(op)"
   ],
   "id": "24dcdd07ff09b248",
   "outputs": [],
   "execution_count": null
  },
  {
   "metadata": {},
   "cell_type": "code",
   "source": [
    "import pandas as pd\n",
    "\n",
    "\n",
    "result_list = []\n",
    "for _documents in data_list:\n",
    "    for _docs in _documents['result']['top_docs']:\n",
    "        _dummy = {\n",
    "            \"code\":_documents['code'],\n",
    "            \"item\":_documents['item'],\n",
    "            \"page_content\": _docs.page_content,\n",
    "            \"score\": _docs.metadata['score'],\n",
    "        }\n",
    "        result_list.append(_dummy)\n",
    "\n",
    "\n",
    "df = pd.DataFrame(result_list)\n",
    "\n",
    "\n",
    "\n",
    "mean_scores = df.groupby('code')['score'].mean().reset_index()\n",
    "\n",
    "import seaborn as sns\n",
    "import matplotlib.pyplot as plt\n",
    "\n",
    "\n",
    "\n",
    "\n",
    "# 박스 플롯 그리기\n",
    "plt.figure(figsize=(12, 6))\n",
    "sns.boxplot(x='code', y='score', data=df)\n",
    "plt.xticks(rotation=90)\n",
    "plt.title('Score Distribution by Code')\n",
    "plt.show()"
   ],
   "id": "d0865223501f811d",
   "outputs": [],
   "execution_count": null
  },
  {
   "metadata": {},
   "cell_type": "code",
   "source": "result_list",
   "id": "7eed4c1cd87ac692",
   "outputs": [],
   "execution_count": null
  },
  {
   "metadata": {},
   "cell_type": "code",
   "source": "df",
   "id": "f5414d39012c6d3b",
   "outputs": [],
   "execution_count": null
  },
  {
   "metadata": {},
   "cell_type": "code",
   "source": "",
   "id": "1d0fef7dc9ec0a26",
   "outputs": [],
   "execution_count": null
  }
 ],
 "metadata": {
  "kernelspec": {
   "display_name": "Python 3",
   "language": "python",
   "name": "python3"
  },
  "language_info": {
   "codemirror_mode": {
    "name": "ipython",
    "version": 2
   },
   "file_extension": ".py",
   "mimetype": "text/x-python",
   "name": "python",
   "nbconvert_exporter": "python",
   "pygments_lexer": "ipython2",
   "version": "2.7.6"
  }
 },
 "nbformat": 4,
 "nbformat_minor": 5
}
